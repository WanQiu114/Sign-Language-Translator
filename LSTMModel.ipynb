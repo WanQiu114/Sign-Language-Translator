{
 "cells": [
  {
   "cell_type": "code",
   "execution_count": 1,
   "id": "d39743e4-9838-4318-8f31-08d943fc2c06",
   "metadata": {},
   "outputs": [
    {
     "data": {
      "text/plain": [
       "'C:\\\\Users\\\\a1964\\\\Desktop\\\\EECS4080\\\\database\\\\test'"
      ]
     },
     "execution_count": 1,
     "metadata": {},
     "output_type": "execute_result"
    }
   ],
   "source": [
    "import os\n",
    "os.getcwd()"
   ]
  },
  {
   "cell_type": "code",
   "execution_count": 2,
   "id": "2b06d68a-90f5-4d48-b3d2-81788a6935ba",
   "metadata": {},
   "outputs": [
    {
     "name": "stdout",
     "output_type": "stream",
     "text": [
      "Num GPUs Available:  1\n"
     ]
    }
   ],
   "source": [
    "import tensorflow as tf\n",
    "\n",
    "# Check if TensorFlow is using GPU\n",
    "print(\"Num GPUs Available: \", len(tf.config.experimental.list_physical_devices('GPU')))\n"
   ]
  },
  {
   "cell_type": "code",
   "execution_count": 3,
   "id": "c67b04a1-c717-41b4-bd60-c24024105dfc",
   "metadata": {},
   "outputs": [],
   "source": [
    "import pandas as pd\n",
    "import numpy as np\n",
    "import ast  \n",
    "from keras.utils import pad_sequences\n",
    "\n",
    "\n",
    "from keras.models import Model\n",
    "from keras.layers import Input, LSTM,Dense\n",
    "import matplotlib.pyplot as plt\n",
    "from sklearn.model_selection import train_test_split"
   ]
  },
  {
   "cell_type": "code",
   "execution_count": 4,
   "id": "b0f491cb-7eb5-443f-b90c-3c5a4c1458b9",
   "metadata": {},
   "outputs": [],
   "source": [
    "# Load the csv file from the disk\n",
    "df = pd.read_csv('tokenized_dataset.csv')\n",
    "train_data = df['tokenized_id']\n",
    "file_names = df['file']\n",
    "NUM_ROWS= len(train_data)"
   ]
  },
  {
   "cell_type": "code",
   "execution_count": 5,
   "id": "c3d118ba-d783-4429-b963-10050ed22c34",
   "metadata": {},
   "outputs": [
    {
     "name": "stdout",
     "output_type": "stream",
     "text": [
      "-------------dataset loaded-------------\n",
      "(1206, 75, 465)\n",
      "(1206, 75, 465)\n"
     ]
    }
   ],
   "source": [
    "#The following code read dataset and find the respected labels, and integrating everything together as numpy arrays\n",
    "#The input_data_3d is the dataset and the label_data_3d is the respected labels\n",
    "iteration = 0\n",
    "pedvalue = 1.0\n",
    "framenumber=75\n",
    "targetlength = int(framenumber*155*3)\n",
    "\n",
    "while iteration < NUM_ROWS:\n",
    "    if iteration == 0:\n",
    "\n",
    "        train_data1 = train_data[iteration]\n",
    "        sample_list = ast.literal_eval(train_data1)\n",
    "        sample_list = np.array(sample_list)\n",
    "        \n",
    "\n",
    "        \n",
    "        sample_list = np.reshape(sample_list, (1, -1))\n",
    "        \n",
    "\n",
    "\n",
    "        sample_list = pad_sequences(sample_list, maxlen=int(targetlength/framenumber), padding='post', truncating='post',dtype='float64',value=pedvalue)\n",
    "\n",
    "\n",
    "        #sample_list = np.reshape(sample_list, (1, -1))\n",
    "\n",
    "\n",
    "        #------------------------------------------------\n",
    "        file_path = file_names[iteration]\n",
    "        train_label_path =  file_path.replace('.mp4', '.pose_data.json_combined.npy')\n",
    "\n",
    "        train_labels = np.load(train_label_path)\n",
    "\n",
    "        train_labels = np.reshape(train_labels, (1, -1))\n",
    "        train_labels = pad_sequences(train_labels, maxlen=targetlength, padding='post', truncating='post',dtype='float64',value=pedvalue)\n",
    "        \n",
    "        input_data_expanded = np.tile(sample_list, (1, framenumber))\n",
    "\n",
    "        input_data_3d = input_data_expanded.reshape((1, framenumber, -1))  # 60帧，每帧的元素数自动计算\n",
    "        label_data_3d = train_labels.reshape((1, framenumber, -1))\n",
    "\n",
    "        iteration = iteration + 1\n",
    "    else:\n",
    "\n",
    "        train_dataO = train_data[iteration]\n",
    "        sample_listO = ast.literal_eval(train_dataO)\n",
    "        sample_listO = np.array(sample_listO)\n",
    "        sample_listO = np.reshape(sample_listO, (1, -1))\n",
    "\n",
    "\n",
    "        sample_listO = pad_sequences(sample_listO, maxlen=int(targetlength/framenumber), padding='post', truncating='post',dtype='float64',value=pedvalue)\n",
    "\n",
    "        \n",
    "        \n",
    "\n",
    "\n",
    "        file_path = file_names[iteration]\n",
    "        train_label_path =  file_path.replace('.mp4', '.pose_data.json_combined.npy')\n",
    "\n",
    "        train_labelsO = np.load(train_label_path)\n",
    "        train_labelsO = np.reshape(train_labelsO, (1, -1))\n",
    "        train_labelsO = pad_sequences(train_labelsO, maxlen=targetlength, padding='post', truncating='post',dtype='float64',value=pedvalue)\n",
    "        \n",
    "        input_data_expandedO = np.tile(sample_listO, (1, framenumber))\n",
    "\n",
    "        input_data_3dO = input_data_expandedO.reshape((1, framenumber, -1))  \n",
    "        label_data_3dO = train_labelsO.reshape((1, framenumber, -1))\n",
    "\n",
    "\n",
    "        input_data_3d = np.vstack([input_data_3d,input_data_3dO])\n",
    "        label_data_3d = np.vstack([label_data_3d,label_data_3dO])\n",
    "        #print(input_data_3dO.shape)\n",
    "        #print(label_data_3dO.shape)\n",
    "\n",
    "#        print(train_labels.shape)\n",
    "        \n",
    "        iteration = iteration + 1\n",
    "print(\"-------------dataset loaded-------------\")\n",
    "print(input_data_3d.shape)\n",
    "print(label_data_3d.shape)"
   ]
  },
  {
   "cell_type": "code",
   "execution_count": 6,
   "id": "c12f846a-93d4-4371-8931-02005b70ff2e",
   "metadata": {},
   "outputs": [],
   "source": [
    "#split into training set and dev set\n",
    "input_data_3d, test_sample_list, label_data_3d, test_labels = train_test_split(input_data_3d, label_data_3d, test_size=0.2, random_state=42,shuffle=True, stratify=None)"
   ]
  },
  {
   "cell_type": "code",
   "execution_count": 7,
   "id": "52579db1-9e89-497a-8675-399a788a47f2",
   "metadata": {},
   "outputs": [
    {
     "data": {
      "text/plain": [
       "(964, 75, 465)"
      ]
     },
     "execution_count": 7,
     "metadata": {},
     "output_type": "execute_result"
    }
   ],
   "source": [
    "input_data_3d.shape"
   ]
  },
  {
   "cell_type": "code",
   "execution_count": 8,
   "id": "60af4771-1c54-475a-b7d4-555c5c3c4642",
   "metadata": {},
   "outputs": [
    {
     "data": {
      "text/plain": [
       "(242, 75, 465)"
      ]
     },
     "execution_count": 8,
     "metadata": {},
     "output_type": "execute_result"
    }
   ],
   "source": [
    "test_sample_list.shape"
   ]
  },
  {
   "cell_type": "code",
   "execution_count": 10,
   "id": "ae397a0b-30fe-48f5-80f1-808af410025e",
   "metadata": {},
   "outputs": [],
   "source": [
    "# Define encoder\n",
    "encoder_inputs = Input(shape=(None, input_data_3d.shape[2]), dtype='float64')\n",
    "encoder = LSTM(units=1024, return_state=True)\n",
    "encoder_outputs, state_h, state_c = encoder(encoder_inputs)\n",
    "\n",
    "# Define decoder\n",
    "decoder_inputs = Input(shape=(None, label_data_3d.shape[2]), dtype='float64')\n",
    "decoder_lstm = LSTM(units=1024, return_sequences=True, return_state=True)\n",
    "decoder_outputs, _, _ = decoder_lstm(decoder_inputs, initial_state=[state_h, state_c])\n",
    "decoder_dense = Dense(units=label_data_3d.shape[2], activation='linear', dtype='float64')\n",
    "decoder_outputs = decoder_dense(decoder_outputs)\n",
    "\n",
    "# Define the model\n",
    "model = Model(inputs=[encoder_inputs, decoder_inputs], outputs=decoder_outputs)\n",
    "# compile it \n",
    "model.compile(optimizer='adam',loss='mean_absolute_error', metrics=['mae'])\n",
    "\n"
   ]
  },
  {
   "cell_type": "code",
   "execution_count": 13,
   "id": "fad800e6-4c9f-48c6-a5e4-a87923c526f4",
   "metadata": {},
   "outputs": [
    {
     "name": "stdout",
     "output_type": "stream",
     "text": [
      "Epoch 1/50\n",
      "49/49 [==============================] - 4s 85ms/step - loss: 0.0142 - mae: 0.0142 - val_loss: 0.0161 - val_mae: 0.0161\n",
      "Epoch 2/50\n",
      "49/49 [==============================] - 4s 85ms/step - loss: 0.0140 - mae: 0.0140 - val_loss: 0.0146 - val_mae: 0.0146\n",
      "Epoch 3/50\n",
      "49/49 [==============================] - 4s 89ms/step - loss: 0.0132 - mae: 0.0132 - val_loss: 0.0153 - val_mae: 0.0153\n",
      "Epoch 4/50\n",
      "49/49 [==============================] - 5s 93ms/step - loss: 0.0133 - mae: 0.0133 - val_loss: 0.0127 - val_mae: 0.0127\n",
      "Epoch 5/50\n",
      "49/49 [==============================] - 5s 95ms/step - loss: 0.0121 - mae: 0.0121 - val_loss: 0.0117 - val_mae: 0.0117\n",
      "Epoch 6/50\n",
      "49/49 [==============================] - 5s 95ms/step - loss: 0.0120 - mae: 0.0120 - val_loss: 0.0118 - val_mae: 0.0118\n",
      "Epoch 7/50\n",
      "49/49 [==============================] - 5s 96ms/step - loss: 0.0115 - mae: 0.0115 - val_loss: 0.0108 - val_mae: 0.0108\n",
      "Epoch 8/50\n",
      "49/49 [==============================] - 5s 96ms/step - loss: 0.0109 - mae: 0.0109 - val_loss: 0.0122 - val_mae: 0.0122\n",
      "Epoch 9/50\n",
      "49/49 [==============================] - 5s 97ms/step - loss: 0.0115 - mae: 0.0115 - val_loss: 0.0116 - val_mae: 0.0116\n",
      "Epoch 10/50\n",
      "49/49 [==============================] - 5s 96ms/step - loss: 0.0109 - mae: 0.0109 - val_loss: 0.0113 - val_mae: 0.0113\n",
      "Epoch 11/50\n",
      "49/49 [==============================] - 5s 97ms/step - loss: 0.0109 - mae: 0.0109 - val_loss: 0.0102 - val_mae: 0.0102\n",
      "Epoch 12/50\n",
      "49/49 [==============================] - 5s 97ms/step - loss: 0.0105 - mae: 0.0105 - val_loss: 0.0115 - val_mae: 0.0115\n",
      "Epoch 13/50\n",
      "49/49 [==============================] - 5s 97ms/step - loss: 0.0106 - mae: 0.0106 - val_loss: 0.0113 - val_mae: 0.0113\n",
      "Epoch 14/50\n",
      "49/49 [==============================] - 5s 96ms/step - loss: 0.0109 - mae: 0.0109 - val_loss: 0.0110 - val_mae: 0.0110\n",
      "Epoch 15/50\n",
      "49/49 [==============================] - 5s 96ms/step - loss: 0.0104 - mae: 0.0104 - val_loss: 0.0103 - val_mae: 0.0103\n",
      "Epoch 16/50\n",
      "49/49 [==============================] - 5s 97ms/step - loss: 0.0101 - mae: 0.0101 - val_loss: 0.0094 - val_mae: 0.0094\n",
      "Epoch 17/50\n",
      "49/49 [==============================] - 5s 96ms/step - loss: 0.0104 - mae: 0.0104 - val_loss: 0.0101 - val_mae: 0.0101\n",
      "Epoch 18/50\n",
      "49/49 [==============================] - 5s 96ms/step - loss: 0.0101 - mae: 0.0101 - val_loss: 0.0103 - val_mae: 0.0103\n",
      "Epoch 19/50\n",
      "49/49 [==============================] - 5s 97ms/step - loss: 0.0102 - mae: 0.0102 - val_loss: 0.0102 - val_mae: 0.0102\n",
      "Epoch 20/50\n",
      "49/49 [==============================] - 5s 96ms/step - loss: 0.0098 - mae: 0.0098 - val_loss: 0.0102 - val_mae: 0.0102\n",
      "Epoch 21/50\n",
      "49/49 [==============================] - 5s 97ms/step - loss: 0.0096 - mae: 0.0096 - val_loss: 0.0094 - val_mae: 0.0094\n",
      "Epoch 22/50\n",
      "49/49 [==============================] - 5s 98ms/step - loss: 0.0095 - mae: 0.0095 - val_loss: 0.0099 - val_mae: 0.0099\n",
      "Epoch 23/50\n",
      "49/49 [==============================] - 5s 101ms/step - loss: 0.0095 - mae: 0.0095 - val_loss: 0.0089 - val_mae: 0.0089\n",
      "Epoch 24/50\n",
      "49/49 [==============================] - 5s 100ms/step - loss: 0.0095 - mae: 0.0095 - val_loss: 0.0101 - val_mae: 0.0101\n",
      "Epoch 25/50\n",
      "49/49 [==============================] - 5s 102ms/step - loss: 0.0096 - mae: 0.0096 - val_loss: 0.0114 - val_mae: 0.0114\n",
      "Epoch 26/50\n",
      "49/49 [==============================] - 5s 101ms/step - loss: 0.0095 - mae: 0.0095 - val_loss: 0.0094 - val_mae: 0.0094\n",
      "Epoch 27/50\n",
      "49/49 [==============================] - 5s 105ms/step - loss: 0.0091 - mae: 0.0091 - val_loss: 0.0093 - val_mae: 0.0093\n",
      "Epoch 28/50\n",
      "49/49 [==============================] - 5s 106ms/step - loss: 0.0093 - mae: 0.0093 - val_loss: 0.0107 - val_mae: 0.0107\n",
      "Epoch 29/50\n",
      "49/49 [==============================] - 5s 102ms/step - loss: 0.0099 - mae: 0.0099 - val_loss: 0.0106 - val_mae: 0.0106\n",
      "Epoch 30/50\n",
      "49/49 [==============================] - 5s 102ms/step - loss: 0.0094 - mae: 0.0094 - val_loss: 0.0092 - val_mae: 0.0092\n",
      "Epoch 31/50\n",
      "49/49 [==============================] - 5s 103ms/step - loss: 0.0088 - mae: 0.0088 - val_loss: 0.0087 - val_mae: 0.0087\n",
      "Epoch 32/50\n",
      "49/49 [==============================] - 5s 102ms/step - loss: 0.0087 - mae: 0.0087 - val_loss: 0.0109 - val_mae: 0.0109\n",
      "Epoch 33/50\n",
      "49/49 [==============================] - 5s 104ms/step - loss: 0.0090 - mae: 0.0090 - val_loss: 0.0100 - val_mae: 0.0100\n",
      "Epoch 34/50\n",
      "49/49 [==============================] - 5s 105ms/step - loss: 0.0090 - mae: 0.0090 - val_loss: 0.0090 - val_mae: 0.0090\n",
      "Epoch 35/50\n",
      "49/49 [==============================] - 5s 106ms/step - loss: 0.0087 - mae: 0.0087 - val_loss: 0.0097 - val_mae: 0.0097\n",
      "Epoch 36/50\n",
      "49/49 [==============================] - 5s 104ms/step - loss: 0.0087 - mae: 0.0087 - val_loss: 0.0082 - val_mae: 0.0082\n",
      "Epoch 37/50\n",
      "49/49 [==============================] - 5s 107ms/step - loss: 0.0086 - mae: 0.0086 - val_loss: 0.0083 - val_mae: 0.0083\n",
      "Epoch 38/50\n",
      "49/49 [==============================] - 5s 103ms/step - loss: 0.0090 - mae: 0.0090 - val_loss: 0.0086 - val_mae: 0.0086\n",
      "Epoch 39/50\n",
      "49/49 [==============================] - 5s 104ms/step - loss: 0.0087 - mae: 0.0087 - val_loss: 0.0088 - val_mae: 0.0088\n",
      "Epoch 40/50\n",
      "49/49 [==============================] - 5s 105ms/step - loss: 0.0086 - mae: 0.0086 - val_loss: 0.0084 - val_mae: 0.0084\n",
      "Epoch 41/50\n",
      "49/49 [==============================] - 5s 104ms/step - loss: 0.0086 - mae: 0.0086 - val_loss: 0.0088 - val_mae: 0.0088\n",
      "Epoch 42/50\n",
      "49/49 [==============================] - 5s 109ms/step - loss: 0.0083 - mae: 0.0083 - val_loss: 0.0085 - val_mae: 0.0085\n",
      "Epoch 43/50\n",
      "49/49 [==============================] - 5s 105ms/step - loss: 0.0083 - mae: 0.0083 - val_loss: 0.0101 - val_mae: 0.0101\n",
      "Epoch 44/50\n",
      "49/49 [==============================] - 5s 108ms/step - loss: 0.0090 - mae: 0.0090 - val_loss: 0.0089 - val_mae: 0.0089\n",
      "Epoch 45/50\n",
      "49/49 [==============================] - 5s 109ms/step - loss: 0.0081 - mae: 0.0081 - val_loss: 0.0086 - val_mae: 0.0086\n",
      "Epoch 46/50\n",
      "49/49 [==============================] - 5s 106ms/step - loss: 0.0082 - mae: 0.0082 - val_loss: 0.0084 - val_mae: 0.0084\n",
      "Epoch 47/50\n",
      "49/49 [==============================] - 5s 106ms/step - loss: 0.0084 - mae: 0.0084 - val_loss: 0.0084 - val_mae: 0.0084\n",
      "Epoch 48/50\n",
      "49/49 [==============================] - 5s 106ms/step - loss: 0.0079 - mae: 0.0079 - val_loss: 0.0084 - val_mae: 0.0084\n",
      "Epoch 49/50\n",
      "49/49 [==============================] - 5s 111ms/step - loss: 0.0081 - mae: 0.0081 - val_loss: 0.0082 - val_mae: 0.0082\n",
      "Epoch 50/50\n",
      "49/49 [==============================] - 5s 106ms/step - loss: 0.0080 - mae: 0.0080 - val_loss: 0.0081 - val_mae: 0.0081\n"
     ]
    },
    {
     "data": {
      "image/png": "[encoded data removed]",
      "text/plain": [
       "<Figure size 640x480 with 1 Axes>"
      ]
     },
     "metadata": {},
     "output_type": "display_data"
    }
   ],
   "source": [
    "history = model.fit(\n",
    "    x=[input_data_3d, label_data_3d[:, :-1, :]],\n",
    "    y=label_data_3d[:, 1:, :],\n",
    "    epochs=50,\n",
    "    batch_size=20,\n",
    "    validation_data=([test_sample_list, test_labels[:, :-1, :]], test_labels[:, 1:, :])\n",
    ")\n",
    "#plt.plot(history.history['mae'])\n",
    "#plt.title('Model Training mae')\n",
    "#plt.ylabel('mae')\n",
    "#plt.xlabel('Epoch')\n",
    "#plt.show()\n",
    "#both the mae/mse on the training part and the validation part\n",
    "train_loss = history.history['mae']\n",
    "val_loss = history.history['val_loss']  # 使用val_loss获取验证损失\n",
    "\n",
    "# draw the line of losses on the training set and the validation set\n",
    "plt.plot(train_loss, label='Training MAE')\n",
    "plt.plot(val_loss, label='Validation MAE')\n",
    "plt.title('Model Training and Validation MAE')\n",
    "plt.ylabel('MAE')\n",
    "plt.xlabel('Epoch')\n",
    "plt.legend()\n",
    "plt.show()\n"
   ]
  },
  {
   "cell_type": "code",
   "execution_count": null,
   "id": "e5e38351-45c7-45ad-8b15-3e08952e0c50",
   "metadata": {},
   "outputs": [],
   "source": [
    "model.save('encoder_decoder_full_model_LSTM.h5')"
   ]
  },
  {
   "cell_type": "code",
   "execution_count": null,
   "id": "1a2f07d7-d9b3-4d32-ae61-64f8e8b56092",
   "metadata": {},
   "outputs": [],
   "source": []
  }
 ],
 "metadata": {
  "kernelspec": {
   "display_name": "Python 3 (ipykernel)",
   "language": "python",
   "name": "python3"
  },
  "language_info": {
   "codemirror_mode": {
    "name": "ipython",
    "version": 3
   },
   "file_extension": ".py",
   "mimetype": "text/x-python",
   "name": "python",
   "nbconvert_exporter": "python",
   "pygments_lexer": "ipython3",
   "version": "3.10.13"
  }
 },
 "nbformat": 4,
 "nbformat_minor": 5
}
