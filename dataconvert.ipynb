{
  "nbformat": 4,
  "nbformat_minor": 0,
  "metadata": {
    "colab": {
      "provenance": []
    },
    "kernelspec": {
      "name": "python3",
      "display_name": "Python 3"
    },
    "language_info": {
      "name": "python"
    }
  },
  "cells": [
    {
      "cell_type": "code",
      "execution_count": 4,
      "metadata": {
        "colab": {
          "base_uri": "https://localhost:8080/"
        },
        "id": "JQ2V6IJM4iqF",
        "outputId": "a1c99ef1-3545-43b1-8465-8e99028c0eb2"
      },
      "outputs": [
        {
          "output_type": "stream",
          "name": "stdout",
          "text": [
            "Drive already mounted at /content/drive; to attempt to forcibly remount, call drive.mount(\"/content/drive\", force_remount=True).\n"
          ]
        }
      ],
      "source": [
        "from google.colab import drive\n",
        "drive.mount('/content/drive')\n",
        "import pandas as pd\n",
        "import json\n",
        "import numpy as np\n",
        "\n",
        "def convertion(csv_file):\n",
        "\n",
        "    full_data = []\n",
        "    num_frames = 0\n",
        "    total_columns = len(csv_file.columns)\n",
        "    while total_columns >= 12:\n",
        "      num_frames += 1\n",
        "      total_columns -= 12\n",
        "\n",
        "\n",
        "    for frame in range(num_frames):\n",
        "        frame_data = {'face': [], 'pose': [], 'left_hand': [], 'right_hand': []}\n",
        "\n",
        "        for row_i in range(len(csv_file)):\n",
        "          for category in frame_data:\n",
        "            #print(\"category: \",category)\n",
        "            x_col = category + str(frame) + '_x'\n",
        "            #print(\"x_col: \",x_col)\n",
        "            y_col = category + str(frame) + '_y'\n",
        "            #print(\"y_col: \",y_col)\n",
        "            z_col = category + str(frame) + '_z'\n",
        "            #print(\"z_col: \",z_col)\n",
        "\n",
        "            if x_col in csv_file.columns and y_col in csv_file.columns and z_col in csv_file.columns:\n",
        "                x = csv_file.at[row_i, x_col]\n",
        "                y = csv_file.at[row_i, y_col]\n",
        "                z = csv_file.at[row_i, z_col]\n",
        "\n",
        "                if not pd.isna(x) and not pd.isna(y) and not pd.isna(z):\n",
        "\n",
        "                    frame_data[category].append({'x': x, 'y': y, 'z': z})\n",
        "\n",
        "\n",
        "        full_data.append(frame_data)\n",
        "        #print(\"frame_data: \",frame_data)\n",
        "\n",
        "    return full_data\n",
        "\n",
        "\n",
        "\n",
        "\n",
        "\n",
        "\n",
        "def csv_to_json(csv_path, output_json_path):\n",
        "\n",
        "    csv_file = pd.read_csv(csv_path)\n",
        "\n",
        "    json_output = convertion(csv_file)\n",
        "\n",
        "    with open(output_json_path, 'w') as file:\n",
        "        json.dump(json_output, file)\n",
        "\n",
        "\n",
        "csv_path = '/content/drive/MyDrive/4080/Data_convert/output2333.csv'\n",
        "output_json_path = '/content/drive/MyDrive/4080/Data_convert/clip_5i9vRk-pAWY_99.pose_data.json'\n",
        "\n",
        "csv_to_json(csv_path, output_json_path)"
      ]
    }
  ]
}