{
  "nbformat": 4,
  "nbformat_minor": 0,
  "metadata": {
    "colab": {
      "provenance": []
    },
    "kernelspec": {
      "name": "python3",
      "display_name": "Python 3"
    },
    "language_info": {
      "name": "python"
    }
  },
  "cells": [
    {
      "cell_type": "code",
      "source": [
        "!pip install mediapipe"
      ],
      "metadata": {
        "colab": {
          "base_uri": "https://localhost:8080/"
        },
        "id": "jdkEn9d6utup",
        "outputId": "c53843e3-ac29-4df4-839e-786a5ed1188a"
      },
      "execution_count": 3,
      "outputs": [
        {
          "output_type": "stream",
          "name": "stdout",
          "text": [
            "Collecting mediapipe\n",
            "  Downloading mediapipe-0.10.9-cp310-cp310-manylinux_2_17_x86_64.manylinux2014_x86_64.whl (34.5 MB)\n",
            "\u001b[2K     \u001b[90m━━━━━━━━━━━━━━━━━━━━━━━━━━━━━━━━━━━━━━━━\u001b[0m \u001b[32m34.5/34.5 MB\u001b[0m \u001b[31m13.3 MB/s\u001b[0m eta \u001b[36m0:00:00\u001b[0m\n",
            "\u001b[?25hRequirement already satisfied: absl-py in /usr/local/lib/python3.10/dist-packages (from mediapipe) (1.4.0)\n",
            "Requirement already satisfied: attrs>=19.1.0 in /usr/local/lib/python3.10/dist-packages (from mediapipe) (23.1.0)\n",
            "Requirement already satisfied: flatbuffers>=2.0 in /usr/local/lib/python3.10/dist-packages (from mediapipe) (23.5.26)\n",
            "Requirement already satisfied: matplotlib in /usr/local/lib/python3.10/dist-packages (from mediapipe) (3.7.1)\n",
            "Requirement already satisfied: numpy in /usr/local/lib/python3.10/dist-packages (from mediapipe) (1.23.5)\n",
            "Requirement already satisfied: opencv-contrib-python in /usr/local/lib/python3.10/dist-packages (from mediapipe) (4.8.0.76)\n",
            "Requirement already satisfied: protobuf<4,>=3.11 in /usr/local/lib/python3.10/dist-packages (from mediapipe) (3.20.3)\n",
            "Collecting sounddevice>=0.4.4 (from mediapipe)\n",
            "  Downloading sounddevice-0.4.6-py3-none-any.whl (31 kB)\n",
            "Requirement already satisfied: CFFI>=1.0 in /usr/local/lib/python3.10/dist-packages (from sounddevice>=0.4.4->mediapipe) (1.16.0)\n",
            "Requirement already satisfied: contourpy>=1.0.1 in /usr/local/lib/python3.10/dist-packages (from matplotlib->mediapipe) (1.2.0)\n",
            "Requirement already satisfied: cycler>=0.10 in /usr/local/lib/python3.10/dist-packages (from matplotlib->mediapipe) (0.12.1)\n",
            "Requirement already satisfied: fonttools>=4.22.0 in /usr/local/lib/python3.10/dist-packages (from matplotlib->mediapipe) (4.46.0)\n",
            "Requirement already satisfied: kiwisolver>=1.0.1 in /usr/local/lib/python3.10/dist-packages (from matplotlib->mediapipe) (1.4.5)\n",
            "Requirement already satisfied: packaging>=20.0 in /usr/local/lib/python3.10/dist-packages (from matplotlib->mediapipe) (23.2)\n",
            "Requirement already satisfied: pillow>=6.2.0 in /usr/local/lib/python3.10/dist-packages (from matplotlib->mediapipe) (9.4.0)\n",
            "Requirement already satisfied: pyparsing>=2.3.1 in /usr/local/lib/python3.10/dist-packages (from matplotlib->mediapipe) (3.1.1)\n",
            "Requirement already satisfied: python-dateutil>=2.7 in /usr/local/lib/python3.10/dist-packages (from matplotlib->mediapipe) (2.8.2)\n",
            "Requirement already satisfied: pycparser in /usr/local/lib/python3.10/dist-packages (from CFFI>=1.0->sounddevice>=0.4.4->mediapipe) (2.21)\n",
            "Requirement already satisfied: six>=1.5 in /usr/local/lib/python3.10/dist-packages (from python-dateutil>=2.7->matplotlib->mediapipe) (1.16.0)\n",
            "Installing collected packages: sounddevice, mediapipe\n",
            "Successfully installed mediapipe-0.10.9 sounddevice-0.4.6\n"
          ]
        }
      ]
    },
    {
      "cell_type": "code",
      "execution_count": 12,
      "metadata": {
        "colab": {
          "base_uri": "https://localhost:8080/"
        },
        "id": "adeX20OTuWAT",
        "outputId": "cf426dd7-bc31-4a54-c5c0-a75b349fb460"
      },
      "outputs": [
        {
          "output_type": "stream",
          "name": "stdout",
          "text": [
            "Drive already mounted at /content/drive; to attempt to forcibly remount, call drive.mount(\"/content/drive\", force_remount=True).\n"
          ]
        },
        {
          "output_type": "execute_result",
          "data": {
            "text/plain": [
              "256"
            ]
          },
          "metadata": {},
          "execution_count": 12
        }
      ],
      "source": [
        "from google.colab import drive\n",
        "import mediapipe as mp\n",
        "import cv2\n",
        "import json\n",
        "import numpy as np\n",
        "import os\n",
        "\n",
        "drive.mount('/content/drive')\n",
        "\n",
        "with open('/content/drive/MyDrive/4080/Data_convert/clip_5i9vRk-pAWY_99.pose_data.json', 'r') as file:\n",
        "    pose_data = json.load(file)\n",
        "\n",
        "output_images_folder = '/content/drive/MyDrive/4080/framesTest'\n",
        "os.makedirs(output_images_folder, exist_ok=True)\n",
        "\n",
        "part_colors = {\n",
        "    'face': (0, 0, 255),\n",
        "    'pose': (0, 255, 0),\n",
        "    'left_hand': (255, 165, 0),\n",
        "    'right_hand': (255, 0, 0)\n",
        "}\n",
        "\n",
        "def draw(image, landmarks, connections, part_colors):\n",
        "\n",
        "    for start, end in connections:\n",
        "        start_landmark = landmarks[start]\n",
        "        end_landmark = landmarks[end]\n",
        "        if start_landmark and end_landmark:\n",
        "\n",
        "            cv2.line(image, start_landmark, end_landmark, part_colors, 2)\n",
        "\n",
        "\n",
        "    for landmark in landmarks:\n",
        "        cv2.circle(image, landmark, 3, part_colors, -1)\n",
        "\n",
        "#https://stackoverflow.com/questions/73879333/how-to-only-draw-the-body-points-and-connection-without-the-face\n",
        "#https://stackoverflow.com/questions/75365431/mediapipe-display-body-landmarks-only\n",
        "bone_connections = {'face': [],'pose': [],'left_hand': [],'right_hand': []}\n",
        "bone_connections['pose'] = [(11,12),(11,13),(13,15),(15,21),(15,19),(15,17),(17,19),(12,14),(14,16),(16,22),(16,20),(16,18),(18,20),(12,24),(11,23),(24,23),(24,26),(26,28),(28,32),(32,30),(28,30),(23,25),(25,27),(27,29),(27,31),(29,31)]\n",
        "bone_connections['left_hand']= [(0,1), (1,2), (2,3), (3,4),(0,5), (5,6), (6,7), (7,8),(0,9), (9,10), (10,11), (11,12),(0,13), (13,14), (14,15), (15,16),(0,17), (17,18), (18,19), (19,20),(5,9),(9,13),(13,17)]\n",
        "bone_connections['right_hand']= [(0,1), (1,2), (2,3), (3,4),(0,5), (5,6), (6,7), (7,8),(0,9), (9,10), (10,11), (11,12),(0,13), (13,14), (14,15), (15,16),(0,17), (17,18), (18,19), (19,20),(5,9),(9,13),(13,17)]\n",
        "\n",
        "\n",
        "for frame_i, frame in enumerate(pose_data):\n",
        "    image = np.ones((1080, 1920, 3), dtype=np.uint8) * 255\n",
        "\n",
        "\n",
        "    for part, connections in bone_connections.items():\n",
        "      part_landmarks = frame.get(part)\n",
        "      #print(\"frame_i: \",frame_i)\n",
        "      #print(\"frame: \",frame)\n",
        "      #print(\"part_landmarks: \",part_landmarks)\n",
        "      #print(\"connections: \",connections)\n",
        "\n",
        "      if part_landmarks is None:\n",
        "        part_landmarks = []\n",
        "      landmarks = []\n",
        "      for i in part_landmarks:\n",
        "        if i:\n",
        "          x = int(i['x'] * 1920)\n",
        "          y = int(i['y'] * 1080)\n",
        "          landmarks.append((x, y))\n",
        "          #print(\"landmarks: \", landmarks)\n",
        "        else:\n",
        "          landmarks.append(None)\n",
        "\n",
        "      if connections:\n",
        "        max_i = 0\n",
        "\n",
        "        for pair in connections:\n",
        "          for i in pair:\n",
        "\n",
        "            if i > max_i:\n",
        "                max_i = i\n",
        "\n",
        "        #print(\"max index: \", max_index)\n",
        "        #print(\"miss: \", 1- len(landmarks))\n",
        "        landmarks.extend([None]* (max_i+ 1- len(landmarks)))\n",
        "\n",
        "      draw(image, landmarks, connections, part_colors[part])\n",
        "\n",
        "\n",
        "\n",
        "\n",
        "    filename = f'frame_{frame_i:04d}.png'\n",
        "    file_path = os.path.join(output_images_folder, filename)\n",
        "    cv2.imwrite(file_path, image)\n",
        "\n",
        "\n",
        "output_video_path = '/content/drive/MyDrive/4080/video_Test.mp4'\n",
        "os.system(f\"ffmpeg -framerate 30 -i {output_images_folder}/frame_%04d.png {output_video_path}\")"
      ]
    }
  ]
}