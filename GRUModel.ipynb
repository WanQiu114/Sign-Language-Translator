{
 "cells": [
  {
   "cell_type": "code",
   "execution_count": 1,
   "id": "4715bb8c-3034-4f5a-92a5-67235f90dd30",
   "metadata": {},
   "outputs": [
    {
     "data": {
      "text/plain": [
       "'C:\\\\Users\\\\a1964\\\\Desktop\\\\EECS4080\\\\database\\\\test'"
      ]
     },
     "execution_count": 1,
     "metadata": {},
     "output_type": "execute_result"
    }
   ],
   "source": [
    "import os\n",
    "os.getcwd()"
   ]
  },
  {
   "cell_type": "code",
   "execution_count": 2,
   "id": "71f70484-8a26-4c84-8983-285e4b7c8eac",
   "metadata": {},
   "outputs": [
    {
     "name": "stdout",
     "output_type": "stream",
     "text": [
      "Num GPUs Available:  1\n"
     ]
    }
   ],
   "source": [
    "import tensorflow as tf\n",
    "\n",
    "# Check if TensorFlow is using GPU\n",
    "print(\"Num GPUs Available: \", len(tf.config.experimental.list_physical_devices('GPU')))\n"
   ]
  },
  {
   "cell_type": "code",
   "execution_count": 3,
   "id": "4f84461c-1589-4878-b44b-a7e6b6b5ac59",
   "metadata": {},
   "outputs": [],
   "source": [
    "import pandas as pd\n",
    "import numpy as np\n",
    "import ast  \n",
    "from keras.utils import pad_sequences\n",
    "\n",
    "\n",
    "from keras.models import Model\n",
    "from keras.layers import Input, GRU, LSTM,Dense\n",
    "import matplotlib.pyplot as plt\n",
    "from sklearn.model_selection import train_test_split"
   ]
  },
  {
   "cell_type": "code",
   "execution_count": 4,
   "id": "9baa44a5-5278-48ba-b884-4a8a88ef743d",
   "metadata": {},
   "outputs": [],
   "source": [
    "# Load the csv file from the disk\n",
    "df = pd.read_csv('tokenized_dataset.csv')\n",
    "train_data = df['tokenized_id']\n",
    "file_names = df['file']\n",
    "NUM_ROWS= len(train_data)"
   ]
  },
  {
   "cell_type": "code",
   "execution_count": 5,
   "id": "cfd856de-b293-407e-9613-de0ac58e9d35",
   "metadata": {},
   "outputs": [
    {
     "name": "stdout",
     "output_type": "stream",
     "text": [
      "-------------dataset loaded-------------\n",
      "(1206, 75, 465)\n",
      "(1206, 75, 465)\n",
      "[[[1.8000e+01 2.7495e+04 8.0000e+00 ... 1.0000e+00 1.0000e+00 1.0000e+00]\n",
      "  [1.8000e+01 2.7495e+04 8.0000e+00 ... 1.0000e+00 1.0000e+00 1.0000e+00]\n",
      "  [1.8000e+01 2.7495e+04 8.0000e+00 ... 1.0000e+00 1.0000e+00 1.0000e+00]\n",
      "  ...\n",
      "  [1.8000e+01 2.7495e+04 8.0000e+00 ... 1.0000e+00 1.0000e+00 1.0000e+00]\n",
      "  [1.8000e+01 2.7495e+04 8.0000e+00 ... 1.0000e+00 1.0000e+00 1.0000e+00]\n",
      "  [1.8000e+01 2.7495e+04 8.0000e+00 ... 1.0000e+00 1.0000e+00 1.0000e+00]]\n",
      "\n",
      " [[1.8000e+01 6.3080e+03 2.5900e+02 ... 1.0000e+00 1.0000e+00 1.0000e+00]\n",
      "  [1.8000e+01 6.3080e+03 2.5900e+02 ... 1.0000e+00 1.0000e+00 1.0000e+00]\n",
      "  [1.8000e+01 6.3080e+03 2.5900e+02 ... 1.0000e+00 1.0000e+00 1.0000e+00]\n",
      "  ...\n",
      "  [1.8000e+01 6.3080e+03 2.5900e+02 ... 1.0000e+00 1.0000e+00 1.0000e+00]\n",
      "  [1.8000e+01 6.3080e+03 2.5900e+02 ... 1.0000e+00 1.0000e+00 1.0000e+00]\n",
      "  [1.8000e+01 6.3080e+03 2.5900e+02 ... 1.0000e+00 1.0000e+00 1.0000e+00]]\n",
      "\n",
      " [[1.8000e+01 5.8750e+03 6.9410e+03 ... 1.0000e+00 1.0000e+00 1.0000e+00]\n",
      "  [1.8000e+01 5.8750e+03 6.9410e+03 ... 1.0000e+00 1.0000e+00 1.0000e+00]\n",
      "  [1.8000e+01 5.8750e+03 6.9410e+03 ... 1.0000e+00 1.0000e+00 1.0000e+00]\n",
      "  ...\n",
      "  [1.8000e+01 5.8750e+03 6.9410e+03 ... 1.0000e+00 1.0000e+00 1.0000e+00]\n",
      "  [1.8000e+01 5.8750e+03 6.9410e+03 ... 1.0000e+00 1.0000e+00 1.0000e+00]\n",
      "  [1.8000e+01 5.8750e+03 6.9410e+03 ... 1.0000e+00 1.0000e+00 1.0000e+00]]\n",
      "\n",
      " ...\n",
      "\n",
      " [[1.8000e+01 4.9320e+03 7.3100e+02 ... 1.0000e+00 1.0000e+00 1.0000e+00]\n",
      "  [1.8000e+01 4.9320e+03 7.3100e+02 ... 1.0000e+00 1.0000e+00 1.0000e+00]\n",
      "  [1.8000e+01 4.9320e+03 7.3100e+02 ... 1.0000e+00 1.0000e+00 1.0000e+00]\n",
      "  ...\n",
      "  [1.8000e+01 4.9320e+03 7.3100e+02 ... 1.0000e+00 1.0000e+00 1.0000e+00]\n",
      "  [1.8000e+01 4.9320e+03 7.3100e+02 ... 1.0000e+00 1.0000e+00 1.0000e+00]\n",
      "  [1.8000e+01 4.9320e+03 7.3100e+02 ... 1.0000e+00 1.0000e+00 1.0000e+00]]\n",
      "\n",
      " [[1.8000e+01 5.8690e+03 1.8000e+01 ... 1.0000e+00 1.0000e+00 1.0000e+00]\n",
      "  [1.8000e+01 5.8690e+03 1.8000e+01 ... 1.0000e+00 1.0000e+00 1.0000e+00]\n",
      "  [1.8000e+01 5.8690e+03 1.8000e+01 ... 1.0000e+00 1.0000e+00 1.0000e+00]\n",
      "  ...\n",
      "  [1.8000e+01 5.8690e+03 1.8000e+01 ... 1.0000e+00 1.0000e+00 1.0000e+00]\n",
      "  [1.8000e+01 5.8690e+03 1.8000e+01 ... 1.0000e+00 1.0000e+00 1.0000e+00]\n",
      "  [1.8000e+01 5.8690e+03 1.8000e+01 ... 1.0000e+00 1.0000e+00 1.0000e+00]]\n",
      "\n",
      " [[1.8000e+01 7.4300e+02 3.0000e+01 ... 1.0000e+00 1.0000e+00 1.0000e+00]\n",
      "  [1.8000e+01 7.4300e+02 3.0000e+01 ... 1.0000e+00 1.0000e+00 1.0000e+00]\n",
      "  [1.8000e+01 7.4300e+02 3.0000e+01 ... 1.0000e+00 1.0000e+00 1.0000e+00]\n",
      "  ...\n",
      "  [1.8000e+01 7.4300e+02 3.0000e+01 ... 1.0000e+00 1.0000e+00 1.0000e+00]\n",
      "  [1.8000e+01 7.4300e+02 3.0000e+01 ... 1.0000e+00 1.0000e+00 1.0000e+00]\n",
      "  [1.8000e+01 7.4300e+02 3.0000e+01 ... 1.0000e+00 1.0000e+00 1.0000e+00]]]\n"
     ]
    }
   ],
   "source": [
    "#The following code read dataset and find the respected labels, and integrating everything together as numpy arrays\n",
    "#The input_data_3d is the dataset and the label_data_3d is the respected labels\n",
    "iteration = 0\n",
    "pedvalue = 1.0\n",
    "framenumber=75\n",
    "targetlength = int(framenumber*155*3)\n",
    "\n",
    "while iteration < NUM_ROWS:\n",
    "    if iteration == 0:\n",
    "\n",
    "        train_data1 = train_data[iteration]\n",
    "        sample_list = ast.literal_eval(train_data1)\n",
    "        sample_list = np.array(sample_list)\n",
    "        \n",
    "\n",
    "        \n",
    "        sample_list = np.reshape(sample_list, (1, -1))\n",
    "        \n",
    "\n",
    "\n",
    "        sample_list = pad_sequences(sample_list, maxlen=int(targetlength/framenumber), padding='post', truncating='post',dtype='float64',value=pedvalue)\n",
    "\n",
    "\n",
    "        #sample_list = np.reshape(sample_list, (1, -1))\n",
    "\n",
    "\n",
    "        #------------------------------------------------\n",
    "        file_path = file_names[iteration]\n",
    "        train_label_path =  file_path.replace('.mp4', '.pose_data.json_combined.npy')\n",
    "\n",
    "        train_labels = np.load(train_label_path)\n",
    "\n",
    "        train_labels = np.reshape(train_labels, (1, -1))\n",
    "        train_labels = pad_sequences(train_labels, maxlen=targetlength, padding='post', truncating='post',dtype='float64',value=pedvalue)\n",
    "        \n",
    "        input_data_expanded = np.tile(sample_list, (1, framenumber))\n",
    "\n",
    "        input_data_3d = input_data_expanded.reshape((1, framenumber, -1))  # 60帧，每帧的元素数自动计算\n",
    "        label_data_3d = train_labels.reshape((1, framenumber, -1))\n",
    "\n",
    "        iteration = iteration + 1\n",
    "    else:\n",
    "\n",
    "        train_dataO = train_data[iteration]\n",
    "        sample_listO = ast.literal_eval(train_dataO)\n",
    "        sample_listO = np.array(sample_listO)\n",
    "        sample_listO = np.reshape(sample_listO, (1, -1))\n",
    "\n",
    "\n",
    "        sample_listO = pad_sequences(sample_listO, maxlen=int(targetlength/framenumber), padding='post', truncating='post',dtype='float64',value=pedvalue)\n",
    "\n",
    "        \n",
    "        \n",
    "\n",
    "\n",
    "        file_path = file_names[iteration]\n",
    "        train_label_path =  file_path.replace('.mp4', '.pose_data.json_combined.npy')\n",
    "\n",
    "        train_labelsO = np.load(train_label_path)\n",
    "        train_labelsO = np.reshape(train_labelsO, (1, -1))\n",
    "        train_labelsO = pad_sequences(train_labelsO, maxlen=targetlength, padding='post', truncating='post',dtype='float64',value=pedvalue)\n",
    "        \n",
    "        input_data_expandedO = np.tile(sample_listO, (1, framenumber))\n",
    "\n",
    "        input_data_3dO = input_data_expandedO.reshape((1, framenumber, -1))  # 60帧，每帧的元素数自动计算\n",
    "        label_data_3dO = train_labelsO.reshape((1, framenumber, -1))\n",
    "\n",
    "\n",
    "        input_data_3d = np.vstack([input_data_3d,input_data_3dO])\n",
    "        label_data_3d = np.vstack([label_data_3d,label_data_3dO])\n",
    "        #print(input_data_3dO.shape)\n",
    "        #print(label_data_3dO.shape)\n",
    "\n",
    "#        print(train_labels.shape)\n",
    "        \n",
    "        iteration = iteration + 1\n",
    "print(\"-------------dataset loaded-------------\")\n",
    "print(input_data_3d.shape)\n",
    "print(label_data_3d.shape)\n",
    "print(input_data_3d)"
   ]
  },
  {
   "cell_type": "code",
   "execution_count": 6,
   "id": "4edb736f-11bc-4780-89c9-3351f2cfd790",
   "metadata": {},
   "outputs": [
    {
     "name": "stdout",
     "output_type": "stream",
     "text": [
      "[[[ 0.50234884  0.34405395 -0.0107019  ...  0.          0.\n",
      "    0.        ]\n",
      "  [ 0.50282985  0.34322616 -0.00969865 ...  0.          0.\n",
      "    0.        ]\n",
      "  [ 0.50302351  0.34375241 -0.00904155 ...  0.          0.\n",
      "    0.        ]\n",
      "  ...\n",
      "  [ 0.51206195  0.29629681 -0.01361807 ...  0.          0.\n",
      "    0.        ]\n",
      "  [ 0.51252186  0.29615533 -0.0135751  ...  0.          0.\n",
      "    0.        ]\n",
      "  [ 0.51239508  0.29641086 -0.01349023 ...  0.          0.\n",
      "    0.        ]]\n",
      "\n",
      " [[ 0.51087451  0.29792637 -0.01487452 ...  0.          0.\n",
      "    0.        ]\n",
      "  [ 0.51194865  0.29686248 -0.01364609 ...  0.          0.\n",
      "    0.        ]\n",
      "  [ 0.51099193  0.29735446 -0.01342629 ...  0.          0.\n",
      "    0.        ]\n",
      "  ...\n",
      "  [ 0.50600123  0.31657928 -0.01047883 ...  0.3491016   0.1845039\n",
      "   -0.02495073]\n",
      "  [ 0.50562024  0.31386286 -0.01088497 ...  0.34339112  0.19322249\n",
      "   -0.02656728]\n",
      "  [ 0.50510955  0.30829725 -0.01212877 ...  0.33548483  0.21800165\n",
      "   -0.02744452]]\n",
      "\n",
      " [[ 0.49174628  0.26886228 -0.01889583 ...  0.          0.\n",
      "    0.        ]\n",
      "  [ 0.49186641  0.27150509 -0.01678144 ...  0.          0.\n",
      "    0.        ]\n",
      "  [ 0.49255374  0.27100706 -0.0160608  ...  0.          0.\n",
      "    0.        ]\n",
      "  ...\n",
      "  [ 0.48522201  0.28541058 -0.01532656 ...  0.49605668  0.43786556\n",
      "   -0.02377981]\n",
      "  [ 0.48492342  0.28446576 -0.01542885 ...  0.49605668  0.43786556\n",
      "   -0.02377981]\n",
      "  [ 0.48600957  0.28588673 -0.01500321 ...  0.48540592  0.41195133\n",
      "   -0.0113433 ]]\n",
      "\n",
      " ...\n",
      "\n",
      " [[ 0.52132869  0.29049769 -0.0113963  ...  0.          0.\n",
      "    0.        ]\n",
      "  [ 0.52102238  0.29053214 -0.01173271 ...  0.62772667  0.6482861\n",
      "   -0.00184599]\n",
      "  [ 0.52094859  0.29087567 -0.01159783 ...  0.61900079  0.64195108\n",
      "   -0.00854171]\n",
      "  ...\n",
      "  [ 0.53040928  0.33636087 -0.00557395 ...  0.41804615  0.22971879\n",
      "   -0.02325033]\n",
      "  [ 0.5297091   0.33690789 -0.00540211 ...  0.43150598  0.28498536\n",
      "   -0.01599284]\n",
      "  [ 0.52850771  0.33778286 -0.00554152 ...  0.45590016  0.34870955\n",
      "   -0.01734078]]\n",
      "\n",
      " [[ 0.5188877   0.26869667 -0.01364256 ...  0.          0.\n",
      "    0.        ]\n",
      "  [ 0.5183869   0.26958254 -0.01300712 ...  0.          0.\n",
      "    0.        ]\n",
      "  [ 0.51782703  0.26986691 -0.01275886 ...  0.          0.\n",
      "    0.        ]\n",
      "  ...\n",
      "  [ 0.49851787  0.30381218 -0.00848071 ...  0.43452731  0.42474675\n",
      "   -0.02135028]\n",
      "  [ 0.49632999  0.30811936 -0.00840985 ...  0.43452731  0.42474675\n",
      "   -0.02135028]\n",
      "  [ 0.49279124  0.31342939 -0.00733233 ...  0.43452731  0.42474675\n",
      "   -0.02135028]]\n",
      "\n",
      " [[ 0.49712282  0.26790103 -0.01371933 ...  0.45086059  0.74040765\n",
      "   -0.01857631]\n",
      "  [ 0.49704161  0.26901269 -0.01399355 ...  0.45070767  0.74056917\n",
      "   -0.01406156]\n",
      "  [ 0.49715376  0.26896796 -0.01374668 ...  0.45022652  0.74092686\n",
      "   -0.01037075]\n",
      "  ...\n",
      "  [ 0.48145214  0.31023082 -0.00739173 ...  0.47195259  0.64025897\n",
      "   -0.0131695 ]\n",
      "  [ 0.48197284  0.30967301 -0.00740585 ...  0.48034912  0.63959682\n",
      "   -0.01434441]\n",
      "  [ 0.48181379  0.30883655 -0.00762497 ...  0.48340824  0.64187944\n",
      "   -0.01479395]]]\n"
     ]
    }
   ],
   "source": [
    "print(label_data_3d)"
   ]
  },
  {
   "cell_type": "code",
   "execution_count": 7,
   "id": "9355746b-5022-4e1a-b396-c7bb22fa9f4b",
   "metadata": {},
   "outputs": [],
   "source": [
    "#split into training set and dev set\n",
    "input_data_3d, test_sample_list, label_data_3d, test_labels = train_test_split(input_data_3d, label_data_3d, test_size=0.2, random_state=42,shuffle=True, stratify=None)"
   ]
  },
  {
   "cell_type": "code",
   "execution_count": 8,
   "id": "927ac401-9f0e-487c-b452-7e1aee47e1e3",
   "metadata": {},
   "outputs": [
    {
     "data": {
      "text/plain": [
       "(964, 75, 465)"
      ]
     },
     "execution_count": 8,
     "metadata": {},
     "output_type": "execute_result"
    }
   ],
   "source": [
    "input_data_3d.shape"
   ]
  },
  {
   "cell_type": "code",
   "execution_count": 9,
   "id": "e3d4e932-47d9-455f-a622-7787d0d9733a",
   "metadata": {},
   "outputs": [
    {
     "data": {
      "text/plain": [
       "(242, 75, 465)"
      ]
     },
     "execution_count": 9,
     "metadata": {},
     "output_type": "execute_result"
    }
   ],
   "source": [
    "test_sample_list.shape"
   ]
  },
  {
   "cell_type": "code",
   "execution_count": 10,
   "id": "0cd5e8de-f316-47ce-b07b-1e9edb963c46",
   "metadata": {},
   "outputs": [],
   "source": [
    "#define encoder\n",
    "encoder_inputs = Input(shape=(None, input_data_3d.shape[2]), dtype='float64')\n",
    "encoder = GRU(units=1024, return_state=True)\n",
    "encoder_outputs, state_h = encoder(encoder_inputs)\n",
    "\n",
    "# Define decoder\n",
    "decoder_inputs = Input(shape=(None, label_data_3d.shape[2]), dtype='float64')\n",
    "decoder_gru = GRU(units=1024, return_sequences=True)\n",
    "decoder_outputs = decoder_gru(decoder_inputs, initial_state=state_h)\n",
    "decoder_dense = Dense(units=label_data_3d.shape[2], activation='linear', dtype='float64')\n",
    "decoder_outputs = decoder_dense(decoder_outputs)\n",
    "\n",
    "# Define the model\n",
    "model = Model(inputs=[encoder_inputs, decoder_inputs], outputs=decoder_outputs)\n",
    "\n",
    "# Compile it\n",
    "model.compile(optimizer='adam',loss='mean_absolute_error', metrics=['mae'])"
   ]
  },
  {
   "cell_type": "code",
   "execution_count": 11,
   "id": "099dd674-0bfb-4810-88d2-55a2ee40c376",
   "metadata": {},
   "outputs": [
    {
     "name": "stdout",
     "output_type": "stream",
     "text": [
      "Epoch 1/50\n",
      "49/49 [==============================] - 18s 87ms/step - loss: 0.0824 - mae: 0.0824 - val_loss: 0.0368 - val_mae: 0.0368\n",
      "Epoch 2/50\n",
      "49/49 [==============================] - 3s 65ms/step - loss: 0.0340 - mae: 0.0340 - val_loss: 0.0347 - val_mae: 0.0347\n",
      "Epoch 3/50\n",
      "49/49 [==============================] - 3s 66ms/step - loss: 0.0320 - mae: 0.0320 - val_loss: 0.0294 - val_mae: 0.0294\n",
      "Epoch 4/50\n",
      "49/49 [==============================] - 3s 71ms/step - loss: 0.0292 - mae: 0.0292 - val_loss: 0.0307 - val_mae: 0.0307\n",
      "Epoch 5/50\n",
      "49/49 [==============================] - 4s 73ms/step - loss: 0.0288 - mae: 0.0288 - val_loss: 0.0281 - val_mae: 0.0281\n",
      "Epoch 6/50\n",
      "49/49 [==============================] - 4s 77ms/step - loss: 0.0276 - mae: 0.0276 - val_loss: 0.0269 - val_mae: 0.0269\n",
      "Epoch 7/50\n",
      "49/49 [==============================] - 4s 80ms/step - loss: 0.0269 - mae: 0.0269 - val_loss: 0.0274 - val_mae: 0.0274\n",
      "Epoch 8/50\n",
      "49/49 [==============================] - 4s 79ms/step - loss: 0.0263 - mae: 0.0263 - val_loss: 0.0260 - val_mae: 0.0260\n",
      "Epoch 9/50\n",
      "49/49 [==============================] - 4s 78ms/step - loss: 0.0246 - mae: 0.0246 - val_loss: 0.0233 - val_mae: 0.0233\n",
      "Epoch 10/50\n",
      "49/49 [==============================] - 4s 76ms/step - loss: 0.0237 - mae: 0.0237 - val_loss: 0.0232 - val_mae: 0.0232\n",
      "Epoch 11/50\n",
      "49/49 [==============================] - 4s 79ms/step - loss: 0.0240 - mae: 0.0240 - val_loss: 0.0233 - val_mae: 0.0233\n",
      "Epoch 12/50\n",
      "49/49 [==============================] - 4s 79ms/step - loss: 0.0239 - mae: 0.0239 - val_loss: 0.0220 - val_mae: 0.0220\n",
      "Epoch 13/50\n",
      "49/49 [==============================] - 4s 79ms/step - loss: 0.0218 - mae: 0.0218 - val_loss: 0.0211 - val_mae: 0.0211\n",
      "Epoch 14/50\n",
      "49/49 [==============================] - 4s 80ms/step - loss: 0.0222 - mae: 0.0222 - val_loss: 0.0213 - val_mae: 0.0213\n",
      "Epoch 15/50\n",
      "49/49 [==============================] - 4s 81ms/step - loss: 0.0216 - mae: 0.0216 - val_loss: 0.0210 - val_mae: 0.0210\n",
      "Epoch 16/50\n",
      "49/49 [==============================] - 4s 81ms/step - loss: 0.0215 - mae: 0.0215 - val_loss: 0.0201 - val_mae: 0.0201\n",
      "Epoch 17/50\n",
      "49/49 [==============================] - 4s 81ms/step - loss: 0.0211 - mae: 0.0211 - val_loss: 0.0194 - val_mae: 0.0194\n",
      "Epoch 18/50\n",
      "49/49 [==============================] - 4s 83ms/step - loss: 0.0208 - mae: 0.0208 - val_loss: 0.0198 - val_mae: 0.0198\n",
      "Epoch 19/50\n",
      "49/49 [==============================] - 4s 80ms/step - loss: 0.0201 - mae: 0.0201 - val_loss: 0.0196 - val_mae: 0.0196\n",
      "Epoch 20/50\n",
      "49/49 [==============================] - 4s 79ms/step - loss: 0.0187 - mae: 0.0187 - val_loss: 0.0184 - val_mae: 0.0184\n",
      "Epoch 21/50\n",
      "49/49 [==============================] - 4s 79ms/step - loss: 0.0192 - mae: 0.0192 - val_loss: 0.0189 - val_mae: 0.0189\n",
      "Epoch 22/50\n",
      "49/49 [==============================] - 4s 79ms/step - loss: 0.0187 - mae: 0.0187 - val_loss: 0.0169 - val_mae: 0.0169\n",
      "Epoch 23/50\n",
      "49/49 [==============================] - 4s 79ms/step - loss: 0.0181 - mae: 0.0181 - val_loss: 0.0185 - val_mae: 0.0185\n",
      "Epoch 24/50\n",
      "49/49 [==============================] - 4s 79ms/step - loss: 0.0181 - mae: 0.0181 - val_loss: 0.0177 - val_mae: 0.0177\n",
      "Epoch 25/50\n",
      "49/49 [==============================] - 4s 80ms/step - loss: 0.0172 - mae: 0.0172 - val_loss: 0.0166 - val_mae: 0.0166\n",
      "Epoch 26/50\n",
      "49/49 [==============================] - 4s 79ms/step - loss: 0.0168 - mae: 0.0168 - val_loss: 0.0204 - val_mae: 0.0204\n",
      "Epoch 27/50\n",
      "49/49 [==============================] - 4s 80ms/step - loss: 0.0173 - mae: 0.0173 - val_loss: 0.0193 - val_mae: 0.0193\n",
      "Epoch 28/50\n",
      "49/49 [==============================] - 4s 81ms/step - loss: 0.0166 - mae: 0.0166 - val_loss: 0.0174 - val_mae: 0.0174\n",
      "Epoch 29/50\n",
      "49/49 [==============================] - 4s 82ms/step - loss: 0.0161 - mae: 0.0161 - val_loss: 0.0178 - val_mae: 0.0178\n",
      "Epoch 30/50\n",
      "49/49 [==============================] - 4s 82ms/step - loss: 0.0164 - mae: 0.0164 - val_loss: 0.0158 - val_mae: 0.0158\n",
      "Epoch 31/50\n",
      "49/49 [==============================] - 4s 85ms/step - loss: 0.0154 - mae: 0.0154 - val_loss: 0.0149 - val_mae: 0.0149\n",
      "Epoch 32/50\n",
      "49/49 [==============================] - 4s 84ms/step - loss: 0.0148 - mae: 0.0148 - val_loss: 0.0149 - val_mae: 0.0149\n",
      "Epoch 33/50\n",
      "49/49 [==============================] - 4s 87ms/step - loss: 0.0157 - mae: 0.0157 - val_loss: 0.0138 - val_mae: 0.0138\n",
      "Epoch 34/50\n",
      "49/49 [==============================] - 4s 86ms/step - loss: 0.0150 - mae: 0.0150 - val_loss: 0.0142 - val_mae: 0.0142\n",
      "Epoch 35/50\n",
      "49/49 [==============================] - 4s 86ms/step - loss: 0.0148 - mae: 0.0148 - val_loss: 0.0147 - val_mae: 0.0147\n",
      "Epoch 36/50\n",
      "49/49 [==============================] - 4s 87ms/step - loss: 0.0139 - mae: 0.0139 - val_loss: 0.0140 - val_mae: 0.0140\n",
      "Epoch 37/50\n",
      "49/49 [==============================] - 4s 86ms/step - loss: 0.0139 - mae: 0.0139 - val_loss: 0.0125 - val_mae: 0.0125\n",
      "Epoch 38/50\n",
      "49/49 [==============================] - 4s 87ms/step - loss: 0.0132 - mae: 0.0132 - val_loss: 0.0152 - val_mae: 0.0152\n",
      "Epoch 39/50\n",
      "49/49 [==============================] - 4s 86ms/step - loss: 0.0140 - mae: 0.0140 - val_loss: 0.0145 - val_mae: 0.0145\n",
      "Epoch 40/50\n",
      "49/49 [==============================] - 4s 87ms/step - loss: 0.0140 - mae: 0.0140 - val_loss: 0.0139 - val_mae: 0.0139\n",
      "Epoch 41/50\n",
      "49/49 [==============================] - 4s 87ms/step - loss: 0.0132 - mae: 0.0132 - val_loss: 0.0125 - val_mae: 0.0125\n",
      "Epoch 42/50\n",
      "49/49 [==============================] - 4s 88ms/step - loss: 0.0127 - mae: 0.0127 - val_loss: 0.0136 - val_mae: 0.0136\n",
      "Epoch 43/50\n",
      "49/49 [==============================] - 4s 86ms/step - loss: 0.0125 - mae: 0.0125 - val_loss: 0.0134 - val_mae: 0.0134\n",
      "Epoch 44/50\n",
      "49/49 [==============================] - 4s 87ms/step - loss: 0.0130 - mae: 0.0130 - val_loss: 0.0144 - val_mae: 0.0144\n",
      "Epoch 45/50\n",
      "49/49 [==============================] - 4s 85ms/step - loss: 0.0126 - mae: 0.0126 - val_loss: 0.0125 - val_mae: 0.0125\n",
      "Epoch 46/50\n",
      "49/49 [==============================] - 4s 87ms/step - loss: 0.0122 - mae: 0.0122 - val_loss: 0.0118 - val_mae: 0.0118\n",
      "Epoch 47/50\n",
      "49/49 [==============================] - 4s 87ms/step - loss: 0.0123 - mae: 0.0123 - val_loss: 0.0112 - val_mae: 0.0112\n",
      "Epoch 48/50\n",
      "49/49 [==============================] - 4s 87ms/step - loss: 0.0119 - mae: 0.0119 - val_loss: 0.0120 - val_mae: 0.0120\n",
      "Epoch 49/50\n",
      "49/49 [==============================] - 4s 87ms/step - loss: 0.0118 - mae: 0.0118 - val_loss: 0.0111 - val_mae: 0.0111\n",
      "Epoch 50/50\n",
      "49/49 [==============================] - 4s 90ms/step - loss: 0.0115 - mae: 0.0115 - val_loss: 0.0117 - val_mae: 0.0117\n"
     ]
    },
    {
     "data": {
      "image/png": "[encoded data removed]",
      "text/plain": [
       "<Figure size 640x480 with 1 Axes>"
      ]
     },
     "metadata": {},
     "output_type": "display_data"
    }
   ],
   "source": [
    "history = model.fit(\n",
    "    x=[input_data_3d, label_data_3d[:, :-1, :]],\n",
    "    y=label_data_3d[:, 1:, :],\n",
    "    epochs=50,\n",
    "    batch_size=20,\n",
    "    validation_data=([test_sample_list, test_labels[:, :-1, :]], test_labels[:, 1:, :])\n",
    ")\n",
    "#plt.plot(history.history['mae'])\n",
    "#plt.title('Model Training mae')\n",
    "#plt.ylabel('mae')\n",
    "#plt.xlabel('Epoch')\n",
    "#plt.show()\n",
    "\n",
    "#both the mae/mse on the training part and the validation part\n",
    "train_loss = history.history['mae']\n",
    "val_loss = history.history['val_loss']  # 使用val_loss获取验证损失\n",
    "\n",
    "# draw the line of losses on the training set and the validation set\n",
    "plt.plot(train_loss, label='Training MAE')\n",
    "plt.plot(val_loss, label='Validation MAE')\n",
    "plt.title('Model Training and Validation MAE')\n",
    "plt.ylabel('MAE')\n",
    "plt.xlabel('Epoch')\n",
    "plt.legend()\n",
    "plt.show()"
   ]
  },
  {
   "cell_type": "code",
   "execution_count": 12,
   "id": "10037e63-68ae-417c-b56d-87d1bdea892a",
   "metadata": {},
   "outputs": [
    {
     "data": {
      "text/plain": [
       "<Figure size 640x480 with 0 Axes>"
      ]
     },
     "metadata": {},
     "output_type": "display_data"
    }
   ],
   "source": [
    "model.save('encoder_decoder_full_model_GRU.h5')"
   ]
  },
  {
   "cell_type": "code",
   "execution_count": null,
   "id": "0d6564b5-f7ad-411a-8e7a-da77bacae103",
   "metadata": {},
   "outputs": [],
   "source": []
  }
 ],
 "metadata": {
  "kernelspec": {
   "display_name": "Python 3 (ipykernel)",
   "language": "python",
   "name": "python3"
  },
  "language_info": {
   "codemirror_mode": {
    "name": "ipython",
    "version": 3
   },
   "file_extension": ".py",
   "mimetype": "text/x-python",
   "name": "python",
   "nbconvert_exporter": "python",
   "pygments_lexer": "ipython3",
   "version": "3.10.13"
  }
 },
 "nbformat": 4,
 "nbformat_minor": 5
}
